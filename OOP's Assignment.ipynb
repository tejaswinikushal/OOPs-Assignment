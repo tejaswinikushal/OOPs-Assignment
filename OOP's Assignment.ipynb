{
 "cells": [
  {
   "cell_type": "markdown",
   "id": "a6f4dda8",
   "metadata": {},
   "source": [
    "#### Q1. Explain Class and Object with respect to Object-Oriented Programming. Give a suitable example."
   ]
  },
  {
   "cell_type": "markdown",
   "id": "7388ccf1",
   "metadata": {},
   "source": [
    "In object-oriented programming (OOP), a class is a blueprint or template that defines the characteristics and behaviors (methods) of a particular type of object. It serves as a blueprint for creating objects, which are instances of the class.\n",
    "\n",
    "An object, on the other hand, is an instance of a class. It represents a specific entity or concept and has its own unique state and behavior. Objects are created based on the structure defined by the class.\n",
    "\n",
    "for example:\n",
    "\n",
    "Class: Car\n",
    "\n",
    "A class called \"Car\" may be defined with various attributes and behaviors that describe a generic car. The attributes could include things like the car's color, brand, model, and current speed. The behaviors could include starting the engine, accelerating, braking, and turning.\n",
    "\n",
    "Object: MyCar\n",
    "Using the \"Car\" class as a blueprint, you can create objects that represent specific cars. For example, you can create an object called \"MyCar\" that has the following attributes:\n",
    "\n",
    "Color: Red\n",
    "Brand: Toyota\n",
    "Model: Camry\n",
    "Current speed: 60 km/h\n",
    "Furthermore, the \"MyCar\" object will inherit the behaviors defined in the \"Car\" class. This means it can start the engine, accelerate, brake, and turn according to the methods defined in the class.\n",
    "\n",
    "By creating multiple objects based on the \"Car\" class, you can represent different cars with unique attributes and behaviors. Each object is independent and can be modified or used separately without affecting other objects.\n",
    "\n",
    "A class in OOP acts as a blueprint that defines the structure and behaviors of objects, while an object is an instance of a class that represents a specific entity and possesses its own state and behavior."
   ]
  },
  {
   "cell_type": "code",
   "execution_count": 1,
   "id": "f914a6f3",
   "metadata": {},
   "outputs": [
    {
     "name": "stdout",
     "output_type": "stream",
     "text": [
      "Engine started.\n",
      "Accelerating. Current speed: 50 km/h.\n",
      "Color: Red\n",
      "Brand: Toyota\n",
      "Model: Camry\n",
      "Current speed: 50 km/h\n",
      "Engine started.\n",
      "Accelerating. Current speed: 70 km/h.\n",
      "Braking. Car stopped.\n",
      "Color: Blue\n",
      "Brand: Honda\n",
      "Model: Civic\n",
      "Current speed: 0 km/h\n"
     ]
    }
   ],
   "source": [
    "class Car:\n",
    "    def __init__(self, color, brand, model):\n",
    "        self.color = color\n",
    "        self.brand = brand\n",
    "        self.model = model\n",
    "        self.current_speed = 0\n",
    "    \n",
    "    def start_engine(self):\n",
    "        print(\"Engine started.\")\n",
    "    \n",
    "    def accelerate(self, speed):\n",
    "        self.current_speed += speed\n",
    "        print(f\"Accelerating. Current speed: {self.current_speed} km/h.\")\n",
    "    \n",
    "    def brake(self):\n",
    "        self.current_speed = 0\n",
    "        print(\"Braking. Car stopped.\")\n",
    "    \n",
    "    def display_info(self):\n",
    "        print(f\"Color: {self.color}\")\n",
    "        print(f\"Brand: {self.brand}\")\n",
    "        print(f\"Model: {self.model}\")\n",
    "        print(f\"Current speed: {self.current_speed} km/h\")\n",
    "\n",
    "car1 = Car(\"Red\", \"Toyota\", \"Camry\")\n",
    "car2 = Car(\"Blue\", \"Honda\", \"Civic\")\n",
    "\n",
    "car1.start_engine()\n",
    "car1.accelerate(50)\n",
    "car1.display_info()\n",
    "\n",
    "car2.start_engine()\n",
    "car2.accelerate(70)\n",
    "car2.brake()\n",
    "car2.display_info()\n"
   ]
  },
  {
   "cell_type": "markdown",
   "id": "bce04ffb",
   "metadata": {},
   "source": [
    "#### Q2. Name the four pillars of OOPs."
   ]
  },
  {
   "cell_type": "markdown",
   "id": "829b1d80",
   "metadata": {},
   "source": [
    "The four pillars of object-oriented programming (OOP) are:\n",
    "\n",
    "1.Encapsulation: Encapsulation refers to the bundling of data (attributes) and methods (functions) together within a class. It allows data to be hidden and accessed only through defined methods, promoting data protection and abstraction.\n",
    "\n",
    "2.Inheritance: Inheritance enables the creation of new classes (derived classes) based on existing classes (base or parent classes). The derived classes inherit attributes and methods from the parent class, allowing code reuse and the establishment of hierarchical relationships.\n",
    "\n",
    "3.Polymorphism: Polymorphism allows objects of different classes to be treated as objects of a commonsuperclass. It enables the use of a single interface to represent various data types, facilitating code flexibility and extensibility.\n",
    "\n",
    "4.Abstraction: Abstraction involves representing essential features and behaviors of objects while hiding unnecessary details. It allows the creation of abstract classes and interfaces, defining a contract for derived classes to follow. Abstraction helps manage complexity and focus on essential aspects of objects and their interactions.\n",
    "\n",
    "These four pillars form the foundation of object-oriented programming and provide principles and techniques for building modular, reusable, and maintainable software systems."
   ]
  },
  {
   "cell_type": "markdown",
   "id": "d37d2c37",
   "metadata": {},
   "source": [
    "#### Q3. Explain why the __init__() function is used. Give a suitable example."
   ]
  },
  {
   "cell_type": "markdown",
   "id": "db625a8b",
   "metadata": {},
   "source": [
    "The _init_() function, also known as the constructor, is used in object-oriented programming to initialize the attributes of an object when it is created from a class. It is automatically called when a new object is instantiated.\n",
    "\n",
    "The primary purpose of the _init_() function is to set up the initial state of an object by assigning values to its attributes. It allows you to define and initialize the object's properties at the time of creation. This function helps ensure that the object starts with the desired initial values and is in a valid state for further operations"
   ]
  },
  {
   "cell_type": "code",
   "execution_count": 2,
   "id": "cf2004da",
   "metadata": {},
   "outputs": [
    {
     "name": "stdout",
     "output_type": "stream",
     "text": [
      "Name: John Doe\n",
      "Age: 25\n",
      "Name: Jane Smith\n",
      "Age: 30\n"
     ]
    }
   ],
   "source": [
    "class Person:\n",
    "    def __init__(self, name, age):\n",
    "        self.name = name\n",
    "        self.age = age\n",
    "    \n",
    "    def display_info(self):\n",
    "        print(f\"Name: {self.name}\")\n",
    "        print(f\"Age: {self.age}\")\n",
    "\n",
    "p1 = Person(\"John Doe\", 25)\n",
    "p2 = Person(\"Jane Smith\", 30)\n",
    "\n",
    "p1.display_info()\n",
    "p2.display_info()"
   ]
  },
  {
   "cell_type": "markdown",
   "id": "b52a625e",
   "metadata": {},
   "source": [
    "#### Q4. Why self is used in OOPs?"
   ]
  },
  {
   "cell_type": "markdown",
   "id": "9f52ba81",
   "metadata": {},
   "source": [
    "In object-oriented programming (OOP), the self parameter is used to refer to the instance of a class within the class itself. It is a convention to name this parameter as self, although it can be named differently. The purpose of self is to differentiate between instance variables and local variables within a class and to access the attributes and methods of the object.\n",
    "\n",
    "Here are the main reasons why self is used in OOP:\n",
    "\n",
    "1.Accessing instance variables: The self parameter allows us to access the instance variables (attributes) of an object within the class. By using self.attribute_name, we can refer to and manipulate the specific attributes of the object.\n",
    "2.Invoking instance methods: With self, we can call the instance methods of a class from within the class itself. By using self.method_name(), we can invoke the methods defined in the class on the specific object.\n",
    "\n",
    "3.Differentiating between local and instance variables: When a method or function is defined within a class, it may have local variables with the same names as the instance variables. To differentiate between the local variables and the instance variables, we use self.attribute_name to refer to the object's attributes.\n",
    "\n",
    "4.Passing the instance as a reference: When an object calls a method on itself, the self parameter is implicitly passed as the first argument. This allows the method to operate on the specific object that invoked it.\n",
    "By using self, we can maintain the state and behavior of individual objects within a class. It ensures that the object's attributes and methods are accessed and manipulated correctly, making it a fundamental part of object-oriented programming"
   ]
  },
  {
   "cell_type": "markdown",
   "id": "4962d8ad",
   "metadata": {},
   "source": [
    "#### Q5. What is inheritance? Give an example for each type of inheritance."
   ]
  },
  {
   "cell_type": "markdown",
   "id": "ffc7d8c6",
   "metadata": {},
   "source": [
    "Inheritance is a fundamental concept in object-oriented programming (OOP) that allows a class to acquire properties (attributes and methods) from another class. The class that inherits the properties is called the subclass or derived class, and the class from which it inherits is called the superclass or base class.\n",
    "\n",
    "Inheritance promotes code reuse, modularity, and the concept of \"is-a\" relationships. It allows for creating specialized classes based on existing ones, inheriting their common characteristics while adding or modifying specific features.\n",
    "\n",
    "There are different types of inheritance based on how classes are related to each other. \n",
    "\n",
    "#### single inheritance:\n",
    "Single inheritance involves one subclass inheriting properties from a single superclass. The subclass inherits all the attributes and methods of the superclass."
   ]
  },
  {
   "cell_type": "code",
   "execution_count": 3,
   "id": "8c12da7e",
   "metadata": {},
   "outputs": [
    {
     "name": "stdout",
     "output_type": "stream",
     "text": [
      "Driving the vehicle.\n",
      "Car is accelerating.\n"
     ]
    }
   ],
   "source": [
    "class Vehicle:\n",
    "    def __init__(self, brand):\n",
    "        self.brand = brand\n",
    "\n",
    "    def drive(self):\n",
    "        print(\"Driving the vehicle.\")\n",
    "\n",
    "class Car(Vehicle):\n",
    "    def __init__(self, brand, model):\n",
    "        super().__init__(brand)\n",
    "        self.model = model\n",
    "\n",
    "    def accelerate(self):\n",
    "        print(\"Car is accelerating.\")\n",
    "\n",
    "my_car = Car(\"Toyota\", \"Camry\")\n",
    "my_car.drive()\n",
    "my_car.accelerate()"
   ]
  },
  {
   "cell_type": "markdown",
   "id": "51b2bd29",
   "metadata": {},
   "source": [
    "In the above example, the class Vehicle is the superclass, and the class Car is the subclass. The Car class inherits the brand attribute and the drive() method from the Vehicle class. It also defines its own accelerate() method. An object of the Car class, my_car, can access and use both the inherited and subclass-specific attributes and methods.\n",
    "\n",
    "#### 2.Multiple Inheritance:\n",
    "Multiple inheritance involves a subclass inheriting properties from two or more superclasses. The subclass inherits attributes and methods from all the superclasses."
   ]
  },
  {
   "cell_type": "code",
   "execution_count": 4,
   "id": "fad5471c",
   "metadata": {},
   "outputs": [
    {
     "name": "stdout",
     "output_type": "stream",
     "text": [
      "Animal is eating.\n",
      "Mammal is breathing.\n",
      "Dolphin is swimming.\n"
     ]
    }
   ],
   "source": [
    "class Animal:\n",
    "    def eat(self):\n",
    "        print(\"Animal is eating.\")\n",
    "\n",
    "class Mammal:\n",
    "    def breathe(self):\n",
    "        print(\"Mammal is breathing.\")\n",
    "\n",
    "class Dolphin(Animal, Mammal):\n",
    "    def swim(self):\n",
    "        print(\"Dolphin is swimming.\")\n",
    "\n",
    "dolphin = Dolphin()\n",
    "dolphin.eat()\n",
    "dolphin.breathe()\n",
    "dolphin.swim()"
   ]
  },
  {
   "cell_type": "markdown",
   "id": "10efb59e",
   "metadata": {},
   "source": [
    "In this example, the class Dolphin inherits properties from both the Animal and Mammal classes. It can access the eat() method from the Animal class and the breathe() method from the Mammal class. The Dolphin class also defines its own method, swim(). An object of the Dolphin class, dolphin, can invoke all these methods.\n",
    "\n",
    "#### 3.Multilevel Inheritance:\n",
    "Multilevel inheritance involves a subclass inheriting from another subclass. In this type of inheritance, a class acts as both a superclass and a subclass."
   ]
  },
  {
   "cell_type": "code",
   "execution_count": 5,
   "id": "3d1b87b7",
   "metadata": {},
   "outputs": [
    {
     "name": "stdout",
     "output_type": "stream",
     "text": [
      "Driving the vehicle.\n",
      "Car is accelerating.\n",
      "Sports car is boosting.\n"
     ]
    }
   ],
   "source": [
    "class Vehicle:\n",
    "    def drive(self):\n",
    "        print(\"Driving the vehicle.\")\n",
    "\n",
    "class Car(Vehicle):\n",
    "    def accelerate(self):\n",
    "        print(\"Car is accelerating.\")\n",
    "\n",
    "class SportsCar(Car):\n",
    "    def boost(self):\n",
    "        print(\"Sports car is boosting.\")\n",
    "\n",
    "my_sports_car = SportsCar()\n",
    "my_sports_car.drive()\n",
    "my_sports_car.accelerate()\n",
    "my_sports_car.boost()"
   ]
  },
  {
   "cell_type": "markdown",
   "id": "36584888",
   "metadata": {},
   "source": [
    "#### 4.Hierarchical Inheritance:\n",
    "Hierarchical inheritance involves multiple subclasses inheriting properties from a single superclass. In this type of inheritance, a superclass is extended by multiple subclasses."
   ]
  },
  {
   "cell_type": "code",
   "execution_count": 6,
   "id": "4025e1f6",
   "metadata": {},
   "outputs": [
    {
     "name": "stdout",
     "output_type": "stream",
     "text": [
      "Animal is eating.\n",
      "Dog is barking.\n",
      "Animal is eating.\n",
      "Cat is meowing.\n"
     ]
    }
   ],
   "source": [
    "class Animal:\n",
    "    def eat(self):\n",
    "        print(\"Animal is eating.\")\n",
    "\n",
    "class Dog(Animal):\n",
    "    def bark(self):\n",
    "        print(\"Dog is barking.\")\n",
    "\n",
    "class Cat(Animal):\n",
    "    def meow(self):\n",
    "        print(\"Cat is meowing.\")\n",
    "\n",
    "my_dog = Dog()\n",
    "my_cat = Cat()\n",
    "\n",
    "my_dog.eat()\n",
    "my_dog.bark()\n",
    "\n",
    "my_cat.eat()\n",
    "my_cat.meow()"
   ]
  },
  {
   "cell_type": "markdown",
   "id": "7cc15831",
   "metadata": {},
   "source": [
    "#### 5.Hybrid Inheritance:\n",
    "Hybrid inheritance is a combination of multiple types of inheritance, such as single inheritance and multiple inheritance. It involves a class inheriting properties from both a superclass and multiple superclasses."
   ]
  },
  {
   "cell_type": "code",
   "execution_count": 8,
   "id": "0d584b6c",
   "metadata": {},
   "outputs": [
    {
     "name": "stdout",
     "output_type": "stream",
     "text": [
      "Animal is moving.\n",
      "Mammal is breathing.\n",
      "Bird is flying.\n",
      "Bat is hunting.\n"
     ]
    }
   ],
   "source": [
    "class Animal:\n",
    "    def move(self):\n",
    "        print(\"Animal is moving.\")\n",
    "\n",
    "class Mammal(Animal):\n",
    "    def breathe(self):\n",
    "        print(\"Mammal is breathing.\")\n",
    "\n",
    "class Bird(Animal):\n",
    "    def fly(self):\n",
    "        print(\"Bird is flying.\")\n",
    "\n",
    "class Bat(Mammal, Bird):\n",
    "    def hunt(self):\n",
    "        print(\"Bat is hunting.\")\n",
    "\n",
    "my_bat = Bat()\n",
    "\n",
    "my_bat.move()\n",
    "my_bat.breathe()\n",
    "my_bat.fly()\n",
    "my_bat.hunt()"
   ]
  }
 ],
 "metadata": {
  "kernelspec": {
   "display_name": "Python 3 (ipykernel)",
   "language": "python",
   "name": "python3"
  },
  "language_info": {
   "codemirror_mode": {
    "name": "ipython",
    "version": 3
   },
   "file_extension": ".py",
   "mimetype": "text/x-python",
   "name": "python",
   "nbconvert_exporter": "python",
   "pygments_lexer": "ipython3",
   "version": "3.11.2"
  }
 },
 "nbformat": 4,
 "nbformat_minor": 5
}
